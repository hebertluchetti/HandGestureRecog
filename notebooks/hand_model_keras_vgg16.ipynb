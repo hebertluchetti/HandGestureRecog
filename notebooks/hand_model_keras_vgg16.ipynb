{
 "cells": [
  {
   "cell_type": "code",
   "execution_count": null,
   "metadata": {},
   "outputs": [],
   "source": [
    "%matplotlib inline\n",
    "#%matplotlib notebook\n",
    "import sys\n",
    "import os\n",
    "import numpy as np\n",
    "import matplotlib.pyplot as plt\n",
    "import matplotlib.animation as animation\n",
    "from matplotlib.animation import FuncAnimation\n",
    "import pandas as pd \n",
    "\n",
    "import random\n",
    "from itertools import count\n"
   ]
  },
  {
   "cell_type": "code",
   "execution_count": 3,
   "metadata": {},
   "outputs": [
    {
     "data": {
      "image/png": "[encoded data removed]",
      "text/plain": [
       "<Figure size 432x288 with 1 Axes>"
      ]
     },
     "metadata": {
      "needs_background": "light"
     },
     "output_type": "display_data"
    }
   ],
   "source": [
    "from matplotlib import pyplot as plt\n",
    "from matplotlib.animation import FuncAnimation\n",
    "from random import randrange\n",
    "import numpy as np\n",
    "from threading import Thread\n",
    "import time\n",
    "\n",
    "class LiveBarHGraph:\n",
    "    def __init__(self, class_names, data, colors):\n",
    "        self.class_names = class_names\n",
    "        self.size = len(class_names)\n",
    "        self.data = data\n",
    "        self.colors = colors\n",
    "\n",
    "        self.figure, self.ax = plt.subplots(tight_layout=True)\n",
    "        self.loadBar()\n",
    "        self.animation = FuncAnimation(self.figure, self.update, interval=1000)\n",
    "        self.th = Thread(target=self.thread_f, daemon=True)\n",
    "        self.th.start()\n",
    "\n",
    "    def update(self, frame):\n",
    "        return self.loadBar()\n",
    "\n",
    "        # self.ax.cla()\n",
    "        # self.ax.barh(self.class_names, self.data, align='center', color=self.colors)\n",
    "        # # self.ax.invert_yaxis()  # labels read top-to-bottom\n",
    "        # self.ax.set_xlabel('Percentages', fontsize='medium')\n",
    "        # self.ax.set_title('Class predictions',fontsize='medium')\n",
    "        # return self.bars\n",
    "\n",
    "    def loadBar(self):\n",
    "        self.ax.cla()\n",
    "        self.bars = self.ax.barh(self.class_names, self.data, align='center', color=self.colors)\n",
    "        # self.ax.invert_yaxis()  # labels read top-to-bottom\n",
    "        self.ax.set_xlabel('Percentages', fontsize='medium')\n",
    "        self.ax.set_title('Class predictions',fontsize='medium')\n",
    "        return self.bars\n",
    "    #\n",
    "\n",
    "\n",
    "    def show(self):\n",
    "        plt.show()\n",
    "\n",
    "    def thread_f(self):\n",
    "        while True:\n",
    "            self.data = 8 + 3 * np.random.rand(self.size)\n",
    "            time.sleep(1)\n",
    "\n",
    "class_names = ('stop', 'close', 'right', 'left', 'ok')\n",
    "size = len(class_names)\n",
    "data = 5 + 12 * np.random.rand(size)\n",
    "colors = plt.cm.Dark2(range(size))\n",
    "#\n",
    "g = LiveBarHGraph(class_names, data, colors)\n",
    "g.show()"
   ]
  },
  {
   "cell_type": "code",
   "execution_count": null,
   "metadata": {},
   "outputs": [],
   "source": [
    "# creating the dataset \n",
    "data = {'C':20, 'C++':15, 'Java':30,  \n",
    "        'Python':35} \n",
    "courses = list(data.keys()) \n",
    "values = list(data.values()) \n",
    "   \n",
    "fig = plt.figure(figsize = (10, 5)) \n",
    "  \n",
    "# creating the bar plot \n",
    "plt.bar(courses, values, color ='maroon',  \n",
    "        width = 0.4) \n",
    "  \n",
    "plt.xlabel(\"Courses offered\") \n",
    "plt.ylabel(\"No. of students enrolled\") \n",
    "plt.title(\"Students enrolled in different courses\") \n",
    "plt.show() "
   ]
  },
  {
   "cell_type": "code",
   "execution_count": 1,
   "metadata": {},
   "outputs": [
    {
     "data": {
      "image/png": "[encoded data removed]",
      "text/plain": [
       "<Figure size 432x288 with 1 Axes>"
      ]
     },
     "metadata": {
      "needs_background": "light"
     },
     "output_type": "display_data"
    }
   ],
   "source": [
    "\n",
    "\n",
    "from matplotlib import pyplot as plt\n",
    "from matplotlib.animation import FuncAnimation\n",
    "from random import randrange\n",
    "from threading import Thread\n",
    "import time\n",
    "\n",
    "class LiveGraph:\n",
    "    def __init__(self):\n",
    "        self.x_data, self.y_data = [], []\n",
    "        self.figure = plt.figure()\n",
    "        self.line, = plt.plot(self.x_data, self.y_data)\n",
    "        self.animation = FuncAnimation(self.figure, self.update, interval=1000)\n",
    "        self.th = Thread(target=self.thread_f, daemon=True)\n",
    "        self.th.start()\n",
    "\n",
    "    def update(self, frame):\n",
    "        self.line.set_data(self.x_data, self.y_data)\n",
    "        self.figure.gca().relim()\n",
    "        self.figure.gca().autoscale_view()\n",
    "        return self.line,\n",
    "\n",
    "    def show(self):\n",
    "        plt.show()\n",
    "\n",
    "    def thread_f(self):\n",
    "        x = 0\n",
    "        while True:\n",
    "            self.x_data.append(x)\n",
    "            x += 1\n",
    "            self.y_data.append(randrange(0, 100))   \n",
    "            time.sleep(1)  \n",
    "\n",
    "g = LiveGraph()\n",
    "g.show()"
   ]
  },
  {
   "cell_type": "code",
   "execution_count": null,
   "metadata": {},
   "outputs": [],
   "source": [
    "%matplotlib inline\n",
    "import numpy as np\n",
    "import matplotlib.pyplot as plt\n",
    "plt.style.use('fivethirtyeight')\n",
    "\n",
    "import numpy as np\n",
    "import matplotlib.pyplot as plt\n",
    "\n",
    "\n",
    "data = {'Barton LLC': 109438.50,\n",
    "        'Frami, Hills and Schmidt': 103569.59,\n",
    "        'Fritsch, Russel and Anderson': 112214.71,\n",
    "        'Jerde-Hilpert': 112591.43,\n",
    "        'Keeling LLC': 100934.30,\n",
    "        'Koepp Ltd': 103660.54,\n",
    "        'Kulas Inc': 137351.96,\n",
    "        'Trantow-Barrows': 123381.38,\n",
    "        'White-Trantow': 135841.99,\n",
    "        'Will LLC': 104437.60}\n",
    "group_data = list(data.values())\n",
    "group_names = list(data.keys())\n",
    "group_mean = np.mean(group_data)\n",
    "print(group_data)\n",
    "print(group_names)"
   ]
  },
  {
   "cell_type": "code",
   "execution_count": null,
   "metadata": {},
   "outputs": [],
   "source": [
    "fig, ax = plt.subplots()\n",
    "ax.barh(group_names, group_data)"
   ]
  },
  {
   "cell_type": "code",
   "execution_count": null,
   "metadata": {},
   "outputs": [],
   "source": [
    "print(plt.style.available)"
   ]
  },
  {
   "cell_type": "code",
   "execution_count": null,
   "metadata": {},
   "outputs": [],
   "source": [
    "plt.style.use('fivethirtyeight')"
   ]
  },
  {
   "cell_type": "code",
   "execution_count": null,
   "metadata": {},
   "outputs": [],
   "source": [
    "people = ('Tom', 'Dick', 'Harry', 'Slim', 'Jim')\n",
    "xvals = np.arange(len(people))\n",
    "print(xvals)\n",
    "\n",
    "data = 3 + 10 * np.random.rand(len(people))\n",
    "print(data)\n",
    "error = np.random.rand(len(people))\n",
    "figure, ax = plt.subplots()\n",
    "bars = ax.barh(people, data,  align='center')"
   ]
  },
  {
   "cell_type": "code",
   "execution_count": null,
   "metadata": {},
   "outputs": [],
   "source": [
    "import numpy as np\n",
    "import matplotlib.pyplot as plt\n",
    "import matplotlib.animation as animation\n",
    "\n",
    "def animate(frameno):\n",
    "    x = mu + sigma * np.random.randn(N)\n",
    "    n, _ = np.histogram(x, bins, normed=True)\n",
    "    for rect, h in zip(patches, n):\n",
    "        rect.set_height(h)\n",
    "    return patches\n",
    "\n",
    "N, mu, sigma = 10000, 100, 15\n",
    "fig, ax = plt.subplots()\n",
    "x = mu + sigma * np.random.randn(N)\n",
    "n, bins, patches = plt.hist(x, 50, normed=1, facecolor='green', alpha=0.75)\n",
    "\n",
    "frames = 100\n",
    "ani = animation.FuncAnimation(fig, animate, blit=True, interval=0,\n",
    "                              frames=frames,\n",
    "                              repeat=True)\n",
    "plt.show()"
   ]
  },
  {
   "cell_type": "code",
   "execution_count": null,
   "metadata": {},
   "outputs": [],
   "source": [
    "import random\n",
    "from itertools import count\n",
    "import matplotlib.pyplot as plt\n",
    "from matplotlib.animation import FuncAnimation\n",
    "\n",
    "plt.style.use('fivethirtyeight')\n",
    "\n",
    "x_values = []\n",
    "y_values = []\n",
    "\n",
    "index = count()\n",
    "\n",
    "\n",
    "def animate(i):\n",
    "    x_values.append(next(index))\n",
    "    y_values.append(random.randint(0, 5))\n",
    "    plt.cla()\n",
    "    plt.plot(x_values, y_values)\n",
    "\n",
    "\n",
    "ani = FuncAnimation(plt.gcf(), animate, 1000)\n",
    "\n",
    "\n",
    "plt.tight_layout()\n",
    "plt.show()"
   ]
  },
  {
   "cell_type": "code",
   "execution_count": null,
   "metadata": {},
   "outputs": [],
   "source": []
  }
 ],
 "metadata": {
  "kernelspec": {
   "display_name": "Python 3",
   "language": "python",
   "name": "python3"
  },
  "language_info": {
   "codemirror_mode": {
    "name": "ipython",
    "version": 3
   },
   "file_extension": ".py",
   "mimetype": "text/x-python",
   "name": "python",
   "nbconvert_exporter": "python",
   "pygments_lexer": "ipython3",
   "version": "3.7.6"
  }
 },
 "nbformat": 4,
 "nbformat_minor": 4
}
